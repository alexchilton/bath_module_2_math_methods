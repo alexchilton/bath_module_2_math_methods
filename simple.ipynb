{
 "cells": [
  {
   "cell_type": "markdown",
   "id": "80293d6d8f2d574f",
   "metadata": {},
   "source": [
    "Question 1 [6]: Translate the following sentences into propositional logic. Your formalizations\n",
    "should be as detailed as possible.\n",
    "\n",
    "a) The flat is vacant.\n",
    "\n",
    "b) The flat can be let only if it is vacant and has been cleaned.\n",
    "\n",
    "c) Don’t drink and drive!"
   ]
  },
  {
   "cell_type": "markdown",
   "id": "4a35f75f20c1bc9d",
   "metadata": {},
   "source": [
    "a) **The flat is vacant.**\n",
    "\n",
    "Let V = \"The flat is vacant\"\n",
    "\n",
    "Translation: **V**\n",
    "\n",
    "\n",
    "This is straightforward - a simple atomic proposition."
   ]
  },
  {
   "cell_type": "markdown",
   "id": "352e5bbc3063b1dd",
   "metadata": {},
   "source": [
    "b) **The flat can be let only if it is vacant and has been cleaned.**\n",
    "\n",
    "Let V = \"The flat is vacant\"\n",
    "\n",
    "Let C = \"The flat has been cleaned\"\n",
    "\n",
    "Let L = \"The flat can be let\"\n",
    "\n",
    "The phrase \"can be let only if\" indicates a conditional relationship. \"A only if B\" means \"if A then B\", or A → B.\n",
    "\n",
    "Translation: **L → (V ∧ C)**"
   ]
  },
  {
   "cell_type": "markdown",
   "id": "9ec43afe88909905",
   "metadata": {},
   "source": [
    "c) **Don't drink and drive!**\n",
    "\n",
    "\n",
    "Let D = \"You drink\"\n",
    "\n",
    "Let R = \"You drive\"\n",
    "\n",
    "This imperative sentence is commanding someone not to do both actions simultaneously.\n",
    "\n",
    "Translation: **¬(D ∧ R)**"
   ]
  },
  {
   "cell_type": "markdown",
   "id": "bdfb8e5a8ea47216",
   "metadata": {},
   "source": [
    "Question 2 [6]: Translate the following sentences into predicate logic.\n",
    "Your formalizations should be as detailed as possible.\n",
    "\n",
    "a) Some teachers are strict and others are not.\n",
    "\n",
    "b) Some dogs’ owners do not collect their dog’s litter.\n",
    "\n",
    "c) All animals are equal."
   ]
  },
  {
   "cell_type": "markdown",
   "id": "8ebe906da88d3826",
   "metadata": {},
   "source": [
    "a) **Some teachers are strict and others are not.**\n",
    "\n",
    "This sentence asserts two things:\n",
    "\n",
    "Some teachers are strict\n",
    "\n",
    "Some teachers are not strict\n",
    "\n",
    "There exists someone who is a teacher and is strict, and there exists someone who is a teacher and is not strict\n",
    "\n",
    "Let Domain: All people\n",
    "\n",
    "Let T(x) = \"x is a teacher\"\n",
    "\n",
    "Let S(x) = \"x is strict\"\n",
    "\n",
    "Translation: **∃x(T(x) ∧ S(x)) ∧ ∃y(T(y) ∧ ¬S(y))**\n",
    "\n"
   ]
  },
  {
   "cell_type": "markdown",
   "id": "c11ab6fb3c8dec7e",
   "metadata": {},
   "source": [
    "b) **Some dogs' owners do not collect their dog's litter**\n",
    "\n",
    "There exists a person x and a dog y and x owns y and x does not collect y's litter.\n",
    "\n",
    "Let Domain: All people and dogs\n",
    "\n",
    "Let P(x) = \"x is a person\"\n",
    "\n",
    "Let D(x) = \"x is a dog\"\n",
    "\n",
    "Let O(x,y) = \"x owns y\"\n",
    "\n",
    "Let C(x,y) = \"x collects the litter of y\"\n",
    "\n",
    "Translation: **∃x∃y(P(x) ∧ D(y) ∧ O(x,y) ∧ ¬C(x,y))**\n"
   ]
  },
  {
   "cell_type": "markdown",
   "id": "b682f6f8bb128f44",
   "metadata": {},
   "source": [
    "c) **All animals are equal.**\n",
    "\n",
    "We interpret this as a universal statement about all pairs of animals.\n",
    "\n",
    "For all x and y, if x is an animal and y is an animal, then x is equal to y\n",
    "\n",
    "Let Domain: All entities\n",
    "\n",
    "Let A(x) = \"x is an animal\"\n",
    "\n",
    "Let E(x,y) = \"x is equal to y\"\n",
    "\n",
    "Translation: **∀x∀y((A(x) ∧ A(y)) → E(x,y))**\n"
   ]
  },
  {
   "cell_type": "markdown",
   "id": "ec08c099abdd6a3a",
   "metadata": {},
   "source": [
    "Question 3 [6]: Consider the following formula of propositional logic:\n",
    "**P = ((A ∨ B) ∧ C → (A ∧ B) ∨ C)**\n",
    "\n",
    "a) Assume that A is true, and B,C are false. Is P true or false? Briefly explain why.\n",
    "\n",
    "b) Which truth values for A,B,C will result in P being false?"
   ]
  },
  {
   "cell_type": "markdown",
   "id": "9644cda705552261",
   "metadata": {},
   "source": [
    "a) **A is true, B and C are false**\n",
    "\n",
    "Given: A = T, B = F, C = F\n",
    "\n",
    "A ∨ B = T ∨ F = T\n",
    "\n",
    "(A ∨ B) ∧ C = T ∧ F = F\n",
    "\n",
    "A ∧ B = T ∧ F = F\n",
    "\n",
    "(A ∧ B) ∨ C = F ∨ F = F\n",
    "\n",
    "P = ((A ∨ B) ∧ C) → ((A ∧ B) ∨ C) = F → F = T\n",
    "\n",
    "**P is true.**\n",
    "\n",
    "This is because a conditional statement (→) is true whenever the antecedent is false, regardless of the truth value of the consequent. Since ((A ∨ B) ∧ C) evaluates to false, the entire implication is true."
   ]
  },
  {
   "cell_type": "markdown",
   "id": "87e339a01f4a6091",
   "metadata": {},
   "source": []
  }
 ],
 "metadata": {
  "kernelspec": {
   "display_name": "Python 3 (ipykernel)",
   "language": "python",
   "name": "python3"
  },
  "language_info": {
   "codemirror_mode": {
    "name": "ipython",
    "version": 3
   },
   "file_extension": ".py",
   "mimetype": "text/x-python",
   "name": "python",
   "nbconvert_exporter": "python",
   "pygments_lexer": "ipython3",
   "version": "3.12.0"
  }
 },
 "nbformat": 4,
 "nbformat_minor": 5
}
